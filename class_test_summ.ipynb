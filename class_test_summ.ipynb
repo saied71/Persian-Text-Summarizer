{
 "cells": [
  {
   "cell_type": "code",
   "execution_count": 1,
   "metadata": {},
   "outputs": [],
   "source": [
    "from nltk.corpus import stopwords\n",
    "from nltk.cluster.util import cosine_distance\n",
    "import numpy as np\n",
    "from nltk.tokenize import sent_tokenize\n",
    "import networkx as nx\n",
    "import re"
   ]
  },
  {
   "cell_type": "code",
   "execution_count": 42,
   "metadata": {},
   "outputs": [],
   "source": [
    "class summerizer:\n",
    "    \n",
    "    def __init__(self, *arg, **kwarg):\n",
    "        pass\n",
    "    \n",
    "    def read_clean(self, data):\n",
    "        \"\"\"Read, clean and split the given file\"\"\"\n",
    "        article = sent_tokenize(data)\n",
    "        sentences = []    \n",
    "        for sentence in article:\n",
    "            sentence = re.sub('[/(){}\\[\\]\\|@,;!٪×،*ـ+؟؛\"\"]', \" \", sentence)\n",
    "            sentence = re.sub('[\\\\n]', \"\", sentence)\n",
    "            sentence = re.sub('[!٬٫﷼٪×*)(ـ+}|؛؟<>‌ ÷؛«» \"\" -]', \" \", sentence).split(\" \")\n",
    "            sentences.append(sentence)\n",
    "        #     sentences.pop()\n",
    "        return sentences\n",
    "    \n",
    "    \n",
    "    def sentence_similarity(self, sent1, sent2, stop_words=None):\n",
    "        if stop_words is None:\n",
    "            stop_words = []\n",
    "        all_words = list(set(sent1+sent2))\n",
    "        # Building zero valued vectors with length : len(all_words)\n",
    "        vector1 = [0]*len(all_words)\n",
    "        vector2 = [0]*len(all_words)\n",
    "        # Building vector for first(sent1) and second(sent2) sentence\n",
    "        for w in sent1:\n",
    "            if w in stopwords.words(\"persian\"):\n",
    "                continue\n",
    "            vector1[all_words.index(w)] += 1\n",
    "\n",
    "        for w in sent2:\n",
    "            if w in stopwords.words(\"persian\"):\n",
    "                continue\n",
    "            vector2[all_words.index(w)] += 1\n",
    "        return 1 - cosine_distance(vector1, vector2)\n",
    "    \n",
    "    \n",
    "    def build_similarity_matrix(self, sentences, stop_words):\n",
    "        \"\"\"Building similarity_matrix based on cosine_distance of two sentenece\"\"\"\n",
    "        similarity_matrix = np.zeros((len(sentences), len(sentences))) # Create an empty similarity matrix\n",
    "        for idx1 in range(len(sentences)):\n",
    "            for idx2 in range(len(sentences)):\n",
    "                if idx1 == idx2:\n",
    "                    continue\n",
    "                similarity_matrix[idx1][idx2] = self.sentence_similarity(sentences[idx1], sentences[idx2], stop_words)\n",
    "        return similarity_matrix\n",
    "    \n",
    "    def generate_summary(self, path, top_n=3):\n",
    "        stop_words = stopwords.words(\"persian\")\n",
    "        summarize_text = []\n",
    "        # read, clean and split text file\n",
    "        sentences = self.read_clean(path)\n",
    "        # Generate similarity matrix across the sentences\n",
    "        sentence_similarity_matrix = self.build_similarity_matrix(sentences, stop_words)\n",
    "        # biuld a graph for numpy array\n",
    "        sentence_similarity_graph = nx.from_numpy_array(sentence_similarity_matrix)\n",
    "        # rank nodes(sentences) in graph based on structure of the incoming links\n",
    "        scores = nx.pagerank(sentence_similarity_graph)\n",
    "        # Sort the rank and pick top sentences\n",
    "        ranked_sentence = sorted(((scores[i], s) for i, s in enumerate(sentences)), reverse=True)\n",
    "        # print(\"Indexes of top ranked_sentence order are: \", ranked_sentence)\n",
    "        \n",
    "        for i in range(top_n):\n",
    "            if len(sentences) <= top_n:\n",
    "                print(\"متن انتخابی کوتاه است\")\n",
    "                break\n",
    "            else:\n",
    "                summarize_text.append(\" \".join(ranked_sentence[i][1]))\n",
    "\n",
    "        return print(\". \".join(summarize_text))"
   ]
  },
  {
   "cell_type": "code",
   "execution_count": 43,
   "metadata": {},
   "outputs": [],
   "source": [
    "s = \"\"\"مؤمنه خاتون همسر بهاءالدین ولد و مادر جلال‌الدین محمد مولاناست. گور او در قرامان / لارنده کشف شده، بنابراین باید بین سال‌های ۶۲۶–۶۱۹/۱۲۲۹–۱۲۲۲ از دنیا رفته باشد.[۴۴]\n",
    "\n",
    "در سال‌های بعد از ۶۱۷ قمری یعنی اواسط دهه ۱۲۲۰ میلادی بهاءالدین ولد و خانواده‌اش که جلال‌الدین محمد بلخی (مولوی) نیز در آن بود به آناتولی مرکزی، روم رسیدند. لقب رومی جلال‌الدین از اینجاست. آنان مدتی در لارنده / کرمن کنونی توقف کردند. مردم آن سامان هنوز هم به دیدن مسجد کوچکی که به افتخار او – مؤمنه خاتون – ساخته شده می‌روند.[۴۵]\n",
    "\n",
    "کرمن، پایتخت سلجوقیان روم، در حدود یکصد کیلومتری جنوب خاوری قونیه واقع است، علاءالدین کیقباد که عالمان و عارفان سراسر دنیا را گرد خود جمع کرده بود، بهاءالدین ولد پدر مولوی را به این شهر فراخواند.[۴۶] قونیه شهری بود که بهاءالدین ولد و خانواده اش پس از چهار سال اقامت در لارنده در سال ۶۲۶ یا ۶۲۷ قمری = ۱۲۲۸ میلادی در آنجا سکنی گزیدند.[۴۷]\n",
    "\n",
    "ظاهراً مولانا و برادرش علاءالدین – که بعدها مولوی یکی از پسرانش را به نام او نامگذاری کرد – از دختر قاضی مشرف بوده‌اند و بهاءولد زن یا زنان دیگری داشته و احتمالاً از آن‌ها نیز صاحب فرزندانی بوده‌است. بهاءولد در معارف خود از دو زن یاد کرده‌است.[۴۸]\n",
    "\n",
    "بعضی مدعی شده‌اند که خانواده پدری بهاءالدین از احفاد ابوبکر، خلیفه اول اسلام هستند، این ادعا چه حقیقت داشته باشد و چه نداشته باشد، دربارهٔ پیشینه قومی این خانواده هیچ اطلاع مسلمی در دست نیست. نیز گفته شده که همسر بهاءالدین از خاندان خوارزمشاهیان بوده‌است که در ولایات خاوری حدود سال ۳–۴۷۲ قمری حکومت خود را پایه‌گذاری کردند، ولی این داستان را هم می‌توان جعلی دانست و رد کرد. خوارزمشاه در سال ۳–۶۰۲ قمری بلخ موطن جلال‌الدین را که در تصرف غوریان بود تسخیر کرد.[۴۹]\n",
    "\n",
    "اسلاف مولانا - چنان‌که فرزند او سلطان ولد نیز بدین معنا اشارت دارد از تباری عظیم و بزرگ بودند. البته شاید روایتی که در انتساب سلطان العلما به خلیفه اول یعنی ابوبکر بن ابی قحافه به افواه افتاده و رواج یافته، از آن باشد که نام جد مادری وی «ابوبکر» بوده‌است، و بعدها نام شمس‌الائمه ابوبکر محمد، با نام ابوبکر – نخستین خلیفه راشدین درآمیخته باشد.[۵۰] خاندان بهاءولد هم نسبت صدیقی و ابوبکری داشت و هم نسبت علوی ادعا می‌کرد.[۵۱\"\"\""
   ]
  },
  {
   "cell_type": "code",
   "execution_count": 44,
   "metadata": {},
   "outputs": [],
   "source": [
    "Summ = summerizer()"
   ]
  },
  {
   "cell_type": "code",
   "execution_count": 46,
   "metadata": {},
   "outputs": [
    {
     "name": "stdout",
     "output_type": "stream",
     "text": [
      "CPU times: user 3 µs, sys: 0 ns, total: 3 µs\n",
      "Wall time: 6.2 µs\n",
      " ۴۴ در سال های بعد از ۶۱۷ قمری یعنی اواسط دهه ۱۲۲۰ میلادی بهاءالدین ولد و خانواده اش که جلال الدین محمد بلخی  مولوی  نیز در آن بود به آناتولی مرکزی  روم رسیدند..  ۴۵ کرمن  پایتخت سلجوقیان روم  در حدود یکصد کیلومتری جنوب خاوری قونیه واقع است  علاءالدین کیقباد که عالمان و عارفان سراسر دنیا را گرد خود جمع کرده بود  بهاءالدین ولد پدر مولوی را به این شهر فراخواند.. گور او در قرامان   لارنده کشف شده  بنابراین باید بین سال های ۶۲۶–۶۱۹ ۱۲۲۹–۱۲۲۲ از دنیا رفته باشد..  ۴۸ بعضی مدعی شده اند که خانواده پدری بهاءالدین از احفاد ابوبکر  خلیفه اول اسلام هستند  این ادعا چه حقیقت داشته باشد و چه نداشته باشد  دربارهٔ پیشینه قومی این خانواده هیچ اطلاع مسلمی در دست نیست.\n"
     ]
    }
   ],
   "source": [
    "%time\n",
    "Summ.generate_summary(s, 4)"
   ]
  }
 ],
 "metadata": {
  "kernelspec": {
   "display_name": "Python 3",
   "language": "python",
   "name": "python3"
  },
  "language_info": {
   "codemirror_mode": {
    "name": "ipython",
    "version": 3
   },
   "file_extension": ".py",
   "mimetype": "text/x-python",
   "name": "python",
   "nbconvert_exporter": "python",
   "pygments_lexer": "ipython3",
   "version": "3.8.2"
  }
 },
 "nbformat": 4,
 "nbformat_minor": 4
}
